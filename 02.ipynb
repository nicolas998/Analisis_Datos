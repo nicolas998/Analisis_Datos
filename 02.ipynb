{
 "cells": [
  {
   "cell_type": "markdown",
   "metadata": {},
   "source": [
    "# Introducción a Análisis de Datos (Curso de Pregrado)"
   ]
  },
  {
   "cell_type": "markdown",
   "metadata": {},
   "source": [
    "Durante el desarrollo de la materia se presentaran herramientas para el análisis principalmente de información presentada en series de tiempo, así como un poco de análisis espacial (este no es un curso de **Modelación!**),\n",
    "a continuación se detallan los temas que se desarrollaran.\n",
    "\n",
    "- Series temporales y Números Aleatorios.\n",
    "- Distribuciónes estadísticas y análisis estadístico no paramétrico.\n",
    "- Correlaciones, paramétricas y no paramétricas \n",
    "- Análisis de Series.\n",
    "    - Análisis de Fourier y de Ondas.\n",
    "- Análisis espacial.\n",
    "- Otras herramientas:\n",
    "    - Análisis espectral.\n",
    "    - Redes Neuronales artificiales.\n"
   ]
  },
  {
   "cell_type": "markdown",
   "metadata": {},
   "source": [
    "## Herramientas requedias para la materia "
   ]
  },
  {
   "cell_type": "markdown",
   "metadata": {},
   "source": [
    "Para el desarrollo de la materia es indispensable que nos olvidemos de *Excel* y todos sus derivados y primos.  Esto requiere el uso de herramientas un poco más avanzadas, en donde el ususario (ustedes) pueden programar y llevar un poco más de control sobre los datos.\n",
    "\n",
    "La herramienta recomendada es **Python 2.7**, pero tambień pueden usar algún lenguaje de su preferencia:\n",
    "\n",
    "- Matlab.\n",
    "- IDL.\n",
    "- Visual.\n",
    "- etc...\n",
    "\n",
    "Nota: Con respecto al lenguaje, los dos profesores les podemos dar un buen apoyo en **Python** y en el uso de sus paquetes derivados, en **Matlab** les podemos ayudar un poco, y en los demás lenguajes no tenemos ni idea."
   ]
  },
  {
   "cell_type": "markdown",
   "metadata": {},
   "source": [
    "#### Paquetes requeridos de Python."
   ]
  },
  {
   "cell_type": "markdown",
   "metadata": {},
   "source": [
    "Para el trabajo del curso es importante contar con los siguientes paquetes de **Python**:\n",
    "\n",
    "- Numpy (Trabajo con arreglos)\n",
    "- Matplotlib (conocido tambien como Pylab)\n",
    "- Pandas (Trabajo con series de tiempo)\n",
    "- NetCDF (Lectura y escritura de información meteorológica)\n",
    "- Scipy (Conjunto de herramientas estadísticas avanzadas)\n",
    "- GDAL y osgeo (Uso de mapas)\n",
    "\n",
    "Estos paquetes (y otros) los iremos instalando en la medida en que sean necesarios, lo importante es aprender a hacerlo.\n",
    "\n",
    "Acá encontrarán una buena introducción a **Python** y un buen ejemplo de instalación y manejo de paquetes:\n",
    "[Link al manejo basico de python](https://github.com/jrjohansson/scientific-python-lectures/blob/master/Lecture-0-Scientific-Computing-with-Python.ipynb \"Guia rápida a python\")\n",
    "\n",
    "De acuerdo al tipo de usuario se recomienda lo siguiente:\n",
    "\n",
    "- **Windows**: Usar PythonXY o Anaconda.\n",
    "- **Mac**: [Pip](https://pypi.python.org/pypi).\n",
    "- **Linux**: [Pip](https://pypi.python.org/pypi) o el mismo gestor de paquetes *aptitude* (Ubuntu, Debian) o *rpm* (Fedora, Red Hat).\n"
   ]
  },
  {
   "cell_type": "code",
   "execution_count": 1,
   "metadata": {
    "collapsed": true
   },
   "outputs": [],
   "source": [
    "import numpy as np "
   ]
  },
  {
   "cell_type": "code",
   "execution_count": null,
   "metadata": {
    "collapsed": true
   },
   "outputs": [],
   "source": []
  }
 ],
 "metadata": {
  "kernelspec": {
   "display_name": "Python 2",
   "language": "python",
   "name": "python2"
  },
  "language_info": {
   "codemirror_mode": {
    "name": "ipython",
    "version": 2
   },
   "file_extension": ".py",
   "mimetype": "text/x-python",
   "name": "python",
   "nbconvert_exporter": "python",
   "pygments_lexer": "ipython2",
   "version": "2.7.6"
  }
 },
 "nbformat": 4,
 "nbformat_minor": 0
}
