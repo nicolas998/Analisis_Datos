{
 "cells": [
  {
   "cell_type": "markdown",
   "metadata": {},
   "source": [
    "# 1. Introducción a Análisis de Datos (Curso de Pregrado)"
   ]
  },
  {
   "cell_type": "markdown",
   "metadata": {},
   "source": [
    "Durante el desarrollo de la materia se presentaran herramientas para el análisis principalmente de información presentada en series de tiempo, así como un poco de análisis espacial (este no es un curso de **Modelación!**),\n",
    "a continuación se detallan los temas que se desarrollaran.\n",
    "\n",
    "1. Medidas de localización (3 clases)\n",
    "    - 1.1. Medidas estadísticas.\n",
    "    - 1.2. Robustez.\n",
    "    - 1.3. Resistencia.\n",
    "    - 1.4. Quantiles.\n",
    "2. Teorema de bayes (1 Clase)\n",
    "    - 2.1. Estadística Fisheriana.\n",
    "    - 2.2. Estadística Bayesiana.\n",
    "3. Información entre variables (4 Clases)\n",
    "    - 3.1. Correlaciones paramétricas.\n",
    "    - 3.2. Correlaciones no paramétricas.\n",
    "    - 3.3. Histogramas conjuntos.\n",
    "    - 3.4. Información mutua.\n",
    "3. Distribuciones de probabilidad (2 Clases)\n",
    "    - 3.1. Discretas.\n",
    "    - 3.2. Continuas (funciones definidas).\n",
    "    - 3.3. Distribución empírica.\n",
    "4. Pruebas de Hipótesis (4 Clases).\n",
    "    - 4.1. Pruebas paramétricas.\n",
    "    - 4.2. Pruebas no paramétricas.\n",
    "5. Ajuste estadístico (3 Clases).\n",
    "    - 5.1. Paramétricas.\n",
    "    - 5.2. No Paramétricas.\n",
    "    - 5.3. Redes neuronales.\n",
    "6. Analisis de señales (6 Clases).\n",
    "    - 6.1. Fourier.\n",
    "    - 6.2. Onditas.\n",
    "    - 6.3. EOF."
   ]
  },
  {
   "cell_type": "markdown",
   "metadata": {},
   "source": [
    "## 1.1. Evaluación del curso "
   ]
  },
  {
   "cell_type": "markdown",
   "metadata": {},
   "source": [
    "Tareas: 70%\n",
    "- La nota se divide en 6 tareas cada una con un porcentaje de acuerdo a su dificultad.\n",
    "\n",
    "Trabajo Final: 30%\n",
    "- 10% Presentación oral de avance.\n",
    "- 20% Presentación oral y escrita al final."
   ]
  },
  {
   "cell_type": "markdown",
   "metadata": {},
   "source": [
    "## 1.2 Herramientas requedias para la materia "
   ]
  },
  {
   "cell_type": "markdown",
   "metadata": {},
   "source": [
    "Para el desarrollo de la materia es indispensable que nos olvidemos de *Excel* y todos sus derivados y primos.  Esto requiere el uso de herramientas un poco más avanzadas, en donde el ususario (ustedes) pueden programar y llevar un poco más de control sobre los datos.\n",
    "\n",
    "La herramienta recomendada es **Python 2.7**, pero tambień pueden usar algún lenguaje de su preferencia:\n",
    "\n",
    "- Matlab.\n",
    "- IDL.\n",
    "- Visual.\n",
    "- etc...\n",
    "\n",
    "Nota: Con respecto al lenguaje, los dos profesores les podemos dar un buen apoyo en **Python** y en el uso de sus paquetes derivados, en **Matlab** les podemos ayudar un poco, y en los demás lenguajes no tenemos ni idea."
   ]
  },
  {
   "cell_type": "markdown",
   "metadata": {},
   "source": [
    "### 1.2.1 Paquetes requeridos de Python."
   ]
  },
  {
   "cell_type": "markdown",
   "metadata": {},
   "source": [
    "Para el trabajo del curso es importante contar con los siguientes paquetes de **Python**:\n",
    "\n",
    "- Numpy (Trabajo con arreglos)\n",
    "- Matplotlib (conocido tambien como Pylab)\n",
    "- Pandas (Trabajo con series de tiempo)\n",
    "- NetCDF (Lectura y escritura de información meteorológica)\n",
    "- Scipy (Conjunto de herramientas estadísticas avanzadas)\n",
    "- GDAL y osgeo (Uso de mapas).\n",
    "- SKlearn\n",
    "\n",
    "Estos paquetes (y otros) los iremos instalando en la medida en que sean necesarios, lo importante es aprender a hacerlo.\n",
    "\n",
    "Acá encontrarán una buena introducción a **Python** y un buen ejemplo de instalación y manejo de paquetes:\n",
    "[Link al manejo basico de python](https://github.com/jrjohansson/scientific-python-lectures/blob/master/Lecture-0-Scientific-Computing-with-Python.ipynb \"Guia rápida a python\")\n",
    "\n",
    "De acuerdo al tipo de usuario se recomienda lo siguientes gestores:\n",
    "\n",
    "- **Windows**: Usar PythonXY o Anaconda.\n",
    "- **Mac**: [Pip](https://pypi.python.org/pypi) y Anaconda.\n",
    "- **Linux**: [Pip](https://pypi.python.org/pypi) o el mismo gestor de paquetes *aptitude* (Ubuntu, Debian) o *rpm* (Fedora, Red Hat).\n"
   ]
  },
  {
   "cell_type": "markdown",
   "metadata": {},
   "source": [
    "### 1.2.2 Edición de código "
   ]
  },
  {
   "cell_type": "markdown",
   "metadata": {},
   "source": [
    "Para la edición de código existen múltiples alternativas, algunas pueden ser:\n",
    "\n",
    "- Spyder (La preferida por los estudiantes).\n",
    "- Geany.\n",
    "- Nano o Vim.\n",
    "- Notebook (esta herramienta).\n",
    "- Ecplise.\n",
    "- etc ...\n",
    "\n",
    "Es recomendable cuando elijan que la herramienta de edición elegida tenga por lo menos las siguientes características:\n",
    "\n",
    "- Auto-completado.\n",
    "- Coloreado de código.\n",
    "- Auto indentación.\n",
    "- Numeración de líneas"
   ]
  },
  {
   "cell_type": "markdown",
   "metadata": {},
   "source": [
    "### 1.2.3 Ejecución de código "
   ]
  },
  {
   "cell_type": "markdown",
   "metadata": {},
   "source": [
    "Python es un lenguaje interpretado (no compilado), por lo tanto el código una ves hecho pasa a ser interpretado por un **Intérprete**, el cual convierte en ordenes para la máquina las instrucciones escritas.\n",
    "\n",
    "El código de python se ejecuta en **terminales** o **consolas**, a continuación se describen algunas:\n",
    "\n",
    "- Terminal de Spyder (Recomendada para los Giundowseros).\n",
    "- Terminal de Python (Esta en todas los OS).\n",
    "- Terminal Ipython (La mejor!!!).\n",
    "- Por aca en notebook (Jupyter)\n",
    "\n",
    "Similar al tema del editor, un buen intérprete debe auto-completar y ojala colorear."
   ]
  },
  {
   "cell_type": "markdown",
   "metadata": {},
   "source": [
    "# Tarea 1 [10%]"
   ]
  },
  {
   "cell_type": "markdown",
   "metadata": {},
   "source": [
    "De acuerdo a la ecuación presentada a continuación genere:\n",
    "- N números aleatorios distribuidos uniformemente, con $N$ siendo igual a: 25, 50, 100, 500, 1000.\n",
    "- Haga otra función que genere números que se distribuyan normal (averigue como), genere la misma cantidad de números para $N$.\n",
    "- Para ambos casos represente los valores de $N$ como histogramas (Figura).\n",
    "- Presente deciles para cada caso (Figura).\n",
    "- Cual de los casos es más estable si se introducen 10 números outliers?, demuestrelo.\n",
    "\n",
    "Ecuación para generación de números psuedo-aleatorios que se distribuyen uniformemente\n",
    "\n",
    "$X_{n+1} = (a X_{n} + b) \\setminus m$\n",
    "\n",
    "**Nota**: Esta ecuación entrega los números entre $0$ a $m$, en el caso de los uniformes deben quedar escalados de $0$ a $1$, en el caso de los normales, deben tener $\\sigma = 1$ y $\\mu = 0$.\n",
    "\n",
    "**Ojo**. No pueden usar ningún módulo random de python o de su lenguaje de programación "
   ]
  },
  {
   "cell_type": "markdown",
   "metadata": {},
   "source": [
    "## Ejemplo de lo que más o menos debe dar:"
   ]
  },
  {
   "cell_type": "code",
   "execution_count": 5,
   "metadata": {
    "collapsed": false
   },
   "outputs": [],
   "source": [
    "#paquetes importados de python\n",
    "%matplotlib inline\n",
    "import numpy as np \n",
    "import pylab as pl\n",
    "\n",
    "#Definición de 1000 números aleatorios \n",
    "Uniformes = np.random.uniform(-4,4,100)\n",
    "Normales = np.random.normal(0,1,100)"
   ]
  },
  {
   "cell_type": "code",
   "execution_count": 8,
   "metadata": {
    "collapsed": false
   },
   "outputs": [
    {
     "data": {
      "image/png": "[encoded data removed]",
      "text/plain": [
       "<matplotlib.figure.Figure at 0x7f30d1246ad0>"
      ]
     },
     "metadata": {},
     "output_type": "display_data"
    }
   ],
   "source": [
    "#Obtenciónd e histogramas\n",
    "hU,bU = np.histogram(Uniformes,bins=7)\n",
    "hN,bN = np.histogram(Normales,bins=7)\n",
    "hU=hU.astype(float); hU=hU/hU.sum()\n",
    "hN=hN.astype(float); hN=hN/hN.sum()\n",
    "\n",
    "#Generación de la figura \n",
    "fig=pl.figure()\n",
    "ax=fig.add_subplot(111)\n",
    "ax.plot(bU[1:],hU,'b',lw=2,label='Uniformes')\n",
    "ax.plot(bN[1:],hN,'r',lw=2,label='Normales')\n",
    "ax.fill_between(bU[1:],hU,color='b',alpha=0.2)\n",
    "ax.fill_between(bN[1:],hN,color='r',alpha=0.2)\n",
    "ax.set_xlabel('$X$',size=15)\n",
    "ax.set_ylabel('$f(x)$',size=15)\n",
    "ax.set_xlim(-3,3)\n",
    "ax.grid(True)\n",
    "ax.legend(loc=0)\n",
    "pl.show()"
   ]
  },
  {
   "cell_type": "code",
   "execution_count": 3,
   "metadata": {
    "collapsed": false
   },
   "outputs": [
    {
     "data": {
      "text/plain": [
       "array([-1.86373762, -3.91271825,  0.36878211, ..., -3.3639115 ,\n",
       "        3.13880543,  2.36135887])"
      ]
     },
     "execution_count": 3,
     "metadata": {},
     "output_type": "execute_result"
    }
   ],
   "source": [
    "Uniformes"
   ]
  },
  {
   "cell_type": "code",
   "execution_count": 7,
   "metadata": {
    "collapsed": false
   },
   "outputs": [
    {
     "data": {
      "text/plain": [
       "[<matplotlib.lines.Line2D at 0x7f30d16cadd0>]"
      ]
     },
     "execution_count": 7,
     "metadata": {},
     "output_type": "execute_result"
    },
    {
     "data": {
      "image/png": "[encoded data removed]",
      "text/plain": [
       "<matplotlib.figure.Figure at 0x7f30d13c7bd0>"
      ]
     },
     "metadata": {},
     "output_type": "display_data"
    }
   ],
   "source": [
    "pl.plot(Uniformes)"
   ]
  },
  {
   "cell_type": "code",
   "execution_count": null,
   "metadata": {
    "collapsed": true
   },
   "outputs": [],
   "source": []
  }
 ],
 "metadata": {
  "kernelspec": {
   "display_name": "Python 2",
   "language": "python",
   "name": "python2"
  },
  "language_info": {
   "codemirror_mode": {
    "name": "ipython",
    "version": 2
   },
   "file_extension": ".py",
   "mimetype": "text/x-python",
   "name": "python",
   "nbconvert_exporter": "python",
   "pygments_lexer": "ipython2",
   "version": "2.7.6"
  }
 },
 "nbformat": 4,
 "nbformat_minor": 0
}
